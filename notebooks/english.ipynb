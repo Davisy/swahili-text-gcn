{
 "metadata": {
  "orig_nbformat": 2,
  "kernelspec": {
   "name": "python3",
   "display_name": "Python 3",
   "language": "python"
  }
 },
 "nbformat": 4,
 "nbformat_minor": 2,
 "cells": [
  {
   "source": [
    "import enchant\n",
    "import json\n",
    "\n",
    "en_dict = enchant.Dict(\"en_GB\")"
   ],
   "cell_type": "code",
   "metadata": {},
   "execution_count": 1,
   "outputs": []
  },
  {
   "source": [
    "Load the stemming map:"
   ],
   "cell_type": "markdown",
   "metadata": {}
  },
  {
   "cell_type": "code",
   "execution_count": 2,
   "metadata": {},
   "outputs": [],
   "source": [
    "def read_json_as_dict(path: str):\n",
    "    with open(path) as json_file:\n",
    "        return json.load(json_file)\n",
    "\n",
    "stemming_map = read_json_as_dict('../results/z-news-dictionary/stemming/stemming_cleaned.json')"
   ]
  },
  {
   "source": [
    "Extract all possible english words:"
   ],
   "cell_type": "markdown",
   "metadata": {}
  },
  {
   "cell_type": "code",
   "execution_count": 3,
   "metadata": {
    "tags": []
   },
   "outputs": [],
   "source": [
    "english_words = [word for word in list(stemming_map.keys()) if en_dict.check(word)]"
   ]
  },
  {
   "cell_type": "code",
   "execution_count": 4,
   "metadata": {},
   "outputs": [
    {
     "output_type": "stream",
     "name": "stdout",
     "text": [
      "There are 4339 possible english words in the map\n"
     ]
    }
   ],
   "source": [
    "print(f'There are {len(english_words)} possible english words in the map')"
   ]
  },
  {
   "source": [
    "Download the 50,000 most common english words from: https://github.com/hermitdave/FrequencyWords, then load these words into a set."
   ],
   "cell_type": "markdown",
   "metadata": {}
  },
  {
   "cell_type": "code",
   "execution_count": 5,
   "metadata": {},
   "outputs": [],
   "source": [
    "with open('../data/en/en_50k.txt', 'r') as common_english_file:\n",
    "    most_common_en = set([line.strip().split()[0] for line in common_english_file.readlines()])"
   ]
  },
  {
   "cell_type": "code",
   "execution_count": 6,
   "metadata": {},
   "outputs": [
    {
     "output_type": "stream",
     "name": "stdout",
     "text": [
      "Loaded the 50000 most common English words\n"
     ]
    }
   ],
   "source": [
    "print(f'Loaded the {len(most_common_en)} most common English words')"
   ]
  },
  {
   "source": [
    "Remove all words not in the 50,000 most common words"
   ],
   "cell_type": "markdown",
   "metadata": {}
  },
  {
   "cell_type": "code",
   "execution_count": 7,
   "metadata": {},
   "outputs": [],
   "source": [
    "english_words = set([candidate_en for candidate_en in english_words if candidate_en in most_common_en])"
   ]
  },
  {
   "cell_type": "code",
   "execution_count": 8,
   "metadata": {},
   "outputs": [
    {
     "output_type": "stream",
     "name": "stdout",
     "text": [
      "The reduced set of possible English words still contains 4104 possible english words in the map\n"
     ]
    }
   ],
   "source": [
    "print(f'The reduced set of possible English words still contains {len(english_words)} possible english words in the map')"
   ]
  },
  {
   "cell_type": "code",
   "execution_count": 9,
   "metadata": {},
   "outputs": [],
   "source": [
    "vocab_counts = read_json_as_dict('../results/z-news-dictionary/stemming/vocab_counts.json')"
   ]
  },
  {
   "cell_type": "code",
   "execution_count": 10,
   "metadata": {},
   "outputs": [],
   "source": [
    "en_accumulator = 0\n",
    "en_with_counts = {}\n",
    "for word, num_occurences in vocab_counts.items():\n",
    "    if word in english_words:\n",
    "        en_accumulator += num_occurences\n",
    "        en_with_counts[word] = num_occurences"
   ]
  },
  {
   "cell_type": "code",
   "execution_count": 11,
   "metadata": {},
   "outputs": [
    {
     "output_type": "stream",
     "name": "stdout",
     "text": [
      "The number of times an english word occurs in the corpus is 184343\n"
     ]
    }
   ],
   "source": [
    "print(f'The number of times an english word occurs in the corpus is {en_accumulator}')"
   ]
  },
  {
   "source": [
    "These look inacurate - in order to get a better estimate lets remove all two character words and the two obiously non-English words: Salaam and mambo"
   ],
   "cell_type": "markdown",
   "metadata": {}
  },
  {
   "cell_type": "code",
   "execution_count": 22,
   "metadata": {},
   "outputs": [],
   "source": [
    "for word, count in dict(en_with_counts).items():\n",
    "    if len(word) <= 2 or word == 'salaam' or word == 'mambo':\n",
    "        del en_with_counts[word]"
   ]
  },
  {
   "cell_type": "code",
   "execution_count": 24,
   "metadata": {},
   "outputs": [
    {
     "output_type": "stream",
     "name": "stdout",
     "text": [
      "After that quick prune, the number of times an english word occurs in the corpus is 127510\n"
     ]
    }
   ],
   "source": [
    "en_accumulator = 0\n",
    "for word, num_occurences in en_with_counts.items():\n",
    "    en_accumulator += num_occurences\n",
    "print(f'After that quick prune, the number of times an english word occurs in the corpus is {en_accumulator}')"
   ]
  },
  {
   "source": [
    "Count all words in the corpus:"
   ],
   "cell_type": "markdown",
   "metadata": {}
  },
  {
   "cell_type": "code",
   "execution_count": 13,
   "metadata": {},
   "outputs": [
    {
     "output_type": "stream",
     "name": "stdout",
     "text": [
      "The total number of words in the corpus: 5121759\n"
     ]
    }
   ],
   "source": [
    "all_accumulator = 0\n",
    "for word, num_occurences in vocab_counts.items():\n",
    "    all_accumulator += num_occurences\n",
    "print(f'The total number of words in the corpus: {all_accumulator}')"
   ]
  },
  {
   "cell_type": "code",
   "execution_count": 18,
   "metadata": {},
   "outputs": [
    {
     "output_type": "stream",
     "name": "stdout",
     "text": [
      "The proportion of the corpus that is English words is 2.4895743825509946%\n"
     ]
    }
   ],
   "source": [
    "print(f'The proportion of the corpus that is English words is {127510 / 5121759 * 100}%')"
   ]
  },
  {
   "source": [
    "It is worth noting that this inclides names of people, places, institutions, etc. "
   ],
   "cell_type": "markdown",
   "metadata": {}
  },
  {
   "cell_type": "code",
   "execution_count": null,
   "metadata": {},
   "outputs": [],
   "source": []
  }
 ]
}