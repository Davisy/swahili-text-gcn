{
 "cells": [
  {
   "cell_type": "markdown",
   "metadata": {},
   "source": [
    "### Important: Set up directories\n",
    "Set `WORK_DIR` to the path to the repo in the cell below:"
   ]
  },
  {
   "cell_type": "code",
   "execution_count": 1,
   "metadata": {},
   "outputs": [],
   "source": [
    "import os\n",
    "WORK_DIR = os.path.join(os.getenv(\"HOME\"), 'text-gnn')\n",
    "WORK_DIR = '/Users/tyler/Documents/programming/africa_nlp/text-gnn'\n",
    "os.chdir(WORK_DIR)"
   ]
  },
  {
   "cell_type": "code",
   "execution_count": 2,
   "metadata": {},
   "outputs": [
    {
     "data": {
      "text/html": [
       "<style>.container { width:80% !important; }</style>"
      ],
      "text/plain": [
       "<IPython.core.display.HTML object>"
      ]
     },
     "metadata": {},
     "output_type": "display_data"
    }
   ],
   "source": [
    "import pandas as pd\n",
    "%load_ext autoreload\n",
    "%autoreload 2\n",
    "import sys\n",
    "from IPython.core.display import display, HTML\n",
    "display(HTML(\"<style>.container { width:80% !important; }</style>\"))\n",
    "\n",
    "import torch\n",
    "import matplotlib.pyplot as plt\n",
    "\n",
    "sys.path.append('src')\n",
    "from src.shared.utils import read_json_as_dict"
   ]
  },
  {
   "cell_type": "markdown",
   "metadata": {},
   "source": [
    "## Load data\n",
    "Set the `PREPROC_DIR_NAME` variable to the directory name"
   ]
  },
  {
   "cell_type": "code",
   "execution_count": 9,
   "metadata": {},
   "outputs": [],
   "source": [
    "PREPROC_DIR_NAME = 'z_news'"
   ]
  },
  {
   "cell_type": "code",
   "execution_count": 10,
   "metadata": {},
   "outputs": [],
   "source": [
    "preproc_dir = os.path.join(WORK_DIR, 'results', PREPROC_DIR_NAME)"
   ]
  },
  {
   "cell_type": "code",
   "execution_count": 14,
   "metadata": {},
   "outputs": [],
   "source": [
    "df = pd.read_csv(f'{preproc_dir}/dataset.csv',sep=';')"
   ]
  },
  {
   "cell_type": "code",
   "execution_count": 15,
   "metadata": {},
   "outputs": [],
   "source": [
    "train_nodes = torch.load(os.path.join(preproc_dir,'train-indices.pt'))\n",
    "train_labels = torch.load(os.path.join(preproc_dir,'train-labels.pt'))\n",
    "\n",
    "val_nodes = torch.load(os.path.join(preproc_dir, 'val-indices.pt'))\n",
    "val_labels = torch.load(os.path.join(preproc_dir, 'val-labels.pt'))\n",
    "\n",
    "labels = read_json_as_dict(os.path.join(preproc_dir, 'labels.json'))\n",
    "idx2label = {item:key for (key,item) in labels.items()}"
   ]
  },
  {
   "cell_type": "code",
   "execution_count": 16,
   "metadata": {},
   "outputs": [],
   "source": [
    "label_fractions = df.label_idx.value_counts(normalize=True).to_frame()\n",
    "label_fractions.columns = ['original']\n",
    "\n",
    "name_list = ['train','val']\n",
    "nodes_list = [train_nodes,val_nodes]\n",
    "for name,nodes in zip(name_list,nodes_list):\n",
    "    label_fractions_subset = df[df.document_idx.isin(nodes)].label_idx.value_counts(normalize=True).to_frame().rename({'label_idx':name},axis=1)\n",
    "    label_fractions = pd.merge(label_fractions,label_fractions_subset,left_index=True,right_index=True)\n",
    "\n",
    "label_fractions.index = label_fractions.index.map(idx2label)"
   ]
  },
  {
   "cell_type": "code",
   "execution_count": 17,
   "metadata": {},
   "outputs": [
    {
     "data": {
      "image/png": "[encoded data removed]",
      "text/plain": [
       "<Figure size 1080x576 with 1 Axes>"
      ]
     },
     "metadata": {
      "needs_background": "light"
     },
     "output_type": "display_data"
    }
   ],
   "source": [
    "label_fractions.plot(kind='bar',color=['darkblue','red','darkgreen'])\n",
    "plt.grid(which=\"both\")\n",
    "plt.legend(fontsize=15)\n",
    "fig,ax = plt.gcf(),plt.gca()\n",
    "\n",
    "ax.set_xlabel(\"Label\", size=20)\n",
    "ax.set_ylabel(\"Fraction of data\", size=20)\n",
    "fig.set_size_inches(15, 8)\n",
    "plt.savefig(os.path.join(preproc_dir,'label_fractions.jpg'), dpi=200)"
   ]
  },
  {
   "cell_type": "code",
   "execution_count": 18,
   "metadata": {},
   "outputs": [
    {
     "data": {
      "text/html": [
       "<div>\n",
       "<style scoped>\n",
       "    .dataframe tbody tr th:only-of-type {\n",
       "        vertical-align: middle;\n",
       "    }\n",
       "\n",
       "    .dataframe tbody tr th {\n",
       "        vertical-align: top;\n",
       "    }\n",
       "\n",
       "    .dataframe thead th {\n",
       "        text-align: right;\n",
       "    }\n",
       "</style>\n",
       "<table border=\"1\" class=\"dataframe\">\n",
       "  <thead>\n",
       "    <tr style=\"text-align: right;\">\n",
       "      <th></th>\n",
       "      <th>original</th>\n",
       "      <th>train</th>\n",
       "      <th>val</th>\n",
       "    </tr>\n",
       "  </thead>\n",
       "  <tbody>\n",
       "    <tr>\n",
       "      <th>kitaifa</th>\n",
       "      <td>0.440213</td>\n",
       "      <td>0.440200</td>\n",
       "      <td>0.440266</td>\n",
       "    </tr>\n",
       "    <tr>\n",
       "      <th>michezo</th>\n",
       "      <td>0.258016</td>\n",
       "      <td>0.258006</td>\n",
       "      <td>0.258058</td>\n",
       "    </tr>\n",
       "    <tr>\n",
       "      <th>burudani</th>\n",
       "      <td>0.095805</td>\n",
       "      <td>0.095798</td>\n",
       "      <td>0.095832</td>\n",
       "    </tr>\n",
       "    <tr>\n",
       "      <th>uchumi</th>\n",
       "      <td>0.087123</td>\n",
       "      <td>0.087148</td>\n",
       "      <td>0.087022</td>\n",
       "    </tr>\n",
       "    <tr>\n",
       "      <th>kimataifa</th>\n",
       "      <td>0.081922</td>\n",
       "      <td>0.081936</td>\n",
       "      <td>0.081865</td>\n",
       "    </tr>\n",
       "    <tr>\n",
       "      <th>afya</th>\n",
       "      <td>0.036921</td>\n",
       "      <td>0.036912</td>\n",
       "      <td>0.036957</td>\n",
       "    </tr>\n",
       "  </tbody>\n",
       "</table>\n",
       "</div>"
      ],
      "text/plain": [
       "           original     train       val\n",
       "kitaifa    0.440213  0.440200  0.440266\n",
       "michezo    0.258016  0.258006  0.258058\n",
       "burudani   0.095805  0.095798  0.095832\n",
       "uchumi     0.087123  0.087148  0.087022\n",
       "kimataifa  0.081922  0.081936  0.081865\n",
       "afya       0.036921  0.036912  0.036957"
      ]
     },
     "execution_count": 18,
     "metadata": {},
     "output_type": "execute_result"
    }
   ],
   "source": [
    "label_fractions"
   ]
  },
  {
   "cell_type": "code",
   "execution_count": 21,
   "metadata": {},
   "outputs": [
    {
     "data": {
      "text/plain": [
       "(23266, 18612, 4654)"
      ]
     },
     "execution_count": 21,
     "metadata": {},
     "output_type": "execute_result"
    }
   ],
   "source": [
    "len(df),len(train_nodes),len(val_nodes)"
   ]
  },
  {
   "cell_type": "code",
   "execution_count": null,
   "metadata": {},
   "outputs": [],
   "source": []
  }
 ],
 "metadata": {
  "kernelspec": {
   "display_name": "nlp",
   "language": "python",
   "name": "nlp"
  },
  "language_info": {
   "codemirror_mode": {
    "name": "ipython",
    "version": 3
   },
   "file_extension": ".py",
   "mimetype": "text/x-python",
   "name": "python",
   "nbconvert_exporter": "python",
   "pygments_lexer": "ipython3",
   "version": "3.6.8"
  }
 },
 "nbformat": 4,
 "nbformat_minor": 4
}
