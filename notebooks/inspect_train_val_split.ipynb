{
 "cells": [
  {
   "cell_type": "markdown",
   "metadata": {},
   "source": [
    "### Important: Set up directories\n",
    "Set `WORK_DIR` to the path to the repo in the cell below:"
   ]
  },
  {
   "cell_type": "code",
   "execution_count": 1,
   "metadata": {},
   "outputs": [],
   "source": [
    "import os\n",
    "WORK_DIR = os.path.join(os.getenv(\"HOME\"), 'text-gnn')\n",
    "WORK_DIR = '/Users/tyler/Documents/programming/africa_nlp/text-gnn'\n",
    "os.chdir(WORK_DIR)"
   ]
  },
  {
   "cell_type": "code",
   "execution_count": 2,
   "metadata": {},
   "outputs": [
    {
     "data": {
      "text/html": [
       "<style>.container { width:80% !important; }</style>"
      ],
      "text/plain": [
       "<IPython.core.display.HTML object>"
      ]
     },
     "metadata": {},
     "output_type": "display_data"
    }
   ],
   "source": [
    "import pandas as pd\n",
    "%load_ext autoreload\n",
    "%autoreload 2\n",
    "import sys\n",
    "from IPython.core.display import display, HTML\n",
    "display(HTML(\"<style>.container { width:80% !important; }</style>\"))\n",
    "\n",
    "import torch\n",
    "import matplotlib.pyplot as plt\n",
    "\n",
    "sys.path.append('src')\n",
    "from src.shared.utils import read_json_as_dict"
   ]
  },
  {
   "cell_type": "markdown",
   "metadata": {},
   "source": [
    "## Load data\n",
    "Set the `PREPROC_DIR_NAME` variable to the directory name"
   ]
  },
  {
   "cell_type": "code",
   "execution_count": 3,
   "metadata": {},
   "outputs": [],
   "source": [
    "PREPROC_DIR_NAME = 'z_news_test'"
   ]
  },
  {
   "cell_type": "code",
   "execution_count": 4,
   "metadata": {},
   "outputs": [],
   "source": [
    "preproc_dir = os.path.join(WORK_DIR, 'results', PREPROC_DIR_NAME)"
   ]
  },
  {
   "cell_type": "code",
   "execution_count": 5,
   "metadata": {},
   "outputs": [],
   "source": [
    "df = pd.read_csv(f'{preproc_dir}/dataset.csv',sep=';')"
   ]
  },
  {
   "cell_type": "code",
   "execution_count": 6,
   "metadata": {},
   "outputs": [],
   "source": [
    "train_nodes = torch.load(os.path.join(preproc_dir,'train-indices.pt'))\n",
    "train_labels = torch.load(os.path.join(preproc_dir,'train-labels.pt'))\n",
    "\n",
    "val_nodes = torch.load(os.path.join(preproc_dir, 'val-indices.pt'))\n",
    "val_labels = torch.load(os.path.join(preproc_dir, 'val-labels.pt'))\n",
    "\n",
    "labels = read_json_as_dict(os.path.join(preproc_dir, 'labels.json'))\n",
    "idx2label = {item:key for (key,item) in labels.items()}"
   ]
  },
  {
   "cell_type": "code",
   "execution_count": 7,
   "metadata": {},
   "outputs": [],
   "source": [
    "label_fractions = df.label_idx.value_counts(normalize=True).to_frame()\n",
    "label_fractions.columns = ['original']\n",
    "\n",
    "name_list = ['train','val']\n",
    "nodes_list = [train_nodes,val_nodes]\n",
    "for name,nodes in zip(name_list,nodes_list):\n",
    "    label_fractions_subset = df[df.document_idx.isin(nodes)].label_idx.value_counts(normalize=True).to_frame().rename({'label_idx':name},axis=1)\n",
    "    label_fractions = pd.merge(label_fractions,label_fractions_subset,left_index=True,right_index=True)\n",
    "\n",
    "label_fractions.index = label_fractions.index.map(idx2label)"
   ]
  },
  {
   "cell_type": "code",
   "execution_count": 8,
   "metadata": {},
   "outputs": [
    {
     "data": {
      "image/png": "[encoded data removed]",
      "text/plain": [
       "<Figure size 1080x576 with 1 Axes>"
      ]
     },
     "metadata": {
      "needs_background": "light"
     },
     "output_type": "display_data"
    }
   ],
   "source": [
    "label_fractions.plot(kind='bar',color=['darkblue','red','darkgreen'])\n",
    "plt.grid(which=\"both\")\n",
    "plt.legend(fontsize=15)\n",
    "fig,ax = plt.gcf(),plt.gca()\n",
    "\n",
    "ax.set_xlabel(\"Label\", size=20)\n",
    "ax.set_ylabel(\"Fraction of data\", size=20)\n",
    "fig.set_size_inches(15, 8)\n",
    "plt.savefig(os.path.join(preproc_dir,'label_fractions.jpg'), dpi=200)"
   ]
  },
  {
   "cell_type": "code",
   "execution_count": null,
   "metadata": {},
   "outputs": [],
   "source": []
  }
 ],
 "metadata": {
  "kernelspec": {
   "display_name": "nlp",
   "language": "python",
   "name": "nlp"
  },
  "language_info": {
   "codemirror_mode": {
    "name": "ipython",
    "version": 3
   },
   "file_extension": ".py",
   "mimetype": "text/x-python",
   "name": "python",
   "nbconvert_exporter": "python",
   "pygments_lexer": "ipython3",
   "version": "3.6.8"
  }
 },
 "nbformat": 4,
 "nbformat_minor": 4
}
