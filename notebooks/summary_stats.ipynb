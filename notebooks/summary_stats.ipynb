{
 "cells": [
  {
   "source": [
    "### Important: Set up directories\n",
    "Set `WORK_DIR` to the path to the repo in the cell below:"
   ],
   "cell_type": "markdown",
   "metadata": {}
  },
  {
   "cell_type": "code",
   "execution_count": 1,
   "metadata": {},
   "outputs": [],
   "source": [
    "import os\n",
    "WORK_DIR = os.path.join(os.getenv(\"HOME\"), 'text-gnn')\n",
    "os.chdir(WORK_DIR)"
   ]
  },
  {
   "cell_type": "code",
   "execution_count": 2,
   "metadata": {},
   "outputs": [
    {
     "output_type": "display_data",
     "data": {
      "text/plain": "<IPython.core.display.HTML object>",
      "text/html": "<style>.container { width:80% !important; }</style>"
     },
     "metadata": {}
    }
   ],
   "source": [
    "import pandas as pd\n",
    "%load_ext autoreload\n",
    "%autoreload 2\n",
    "import sys\n",
    "from IPython.core.display import display, HTML\n",
    "display(HTML(\"<style>.container { width:80% !important; }</style>\"))\n",
    "import json\n",
    "import jsonlines\n",
    "\n",
    "sys.path.append('src')\n",
    "from src.shared.utils import tokenize_prune_stem"
   ]
  },
  {
   "cell_type": "markdown",
   "metadata": {},
   "source": [
    "## Helsinki Swahili Corpus\n",
    "Set the `DATASET_DIR_NAME` and `VOCAB_DIR_NAME` variables to the directory names"
   ]
  },
  {
   "cell_type": "code",
   "execution_count": 3,
   "metadata": {},
   "outputs": [],
   "source": [
    "# The results from the `create_dataset.py` script\n",
    "DATASET_DIR_NAME = 'swahili-processed-v1'\n",
    "# Results from running the `download_stemming.py` script\n",
    "VOCAB_DIR_NAME = 'hsc-dictionary'"
   ]
  },
  {
   "cell_type": "markdown",
   "metadata": {},
   "source": [
    "### Documents\n",
    "Explore document stats"
   ]
  },
  {
   "cell_type": "code",
   "execution_count": 4,
   "metadata": {},
   "outputs": [],
   "source": [
    "dataset_dir = os.path.join(WORK_DIR, 'results', DATASET_DIR_NAME)\n",
    "df = pd.read_csv(f'{dataset_dir}/dataset.csv',sep=';')"
   ]
  },
  {
   "cell_type": "code",
   "execution_count": 5,
   "metadata": {},
   "outputs": [
    {
     "output_type": "stream",
     "name": "stdout",
     "text": [
      "457 total documents with 3 classes\n"
     ]
    }
   ],
   "source": [
    "n_classes = df.document_type.nunique()\n",
    "print(f'{len(df)} total documents with {n_classes} classes')"
   ]
  },
  {
   "cell_type": "code",
   "execution_count": 6,
   "metadata": {},
   "outputs": [
    {
     "output_type": "execute_result",
     "data": {
      "text/plain": [
       "news     221\n",
       "bunge    199\n",
       "books     37\n",
       "Name: document_type, dtype: int64"
      ]
     },
     "metadata": {},
     "execution_count": 6
    }
   ],
   "source": [
    "df.document_type.value_counts(dropna=False)"
   ]
  },
  {
   "cell_type": "code",
   "execution_count": 7,
   "metadata": {},
   "outputs": [],
   "source": [
    "df['n_words'] = df.document_content.apply(lambda x:len(x.split()))"
   ]
  },
  {
   "cell_type": "code",
   "execution_count": 8,
   "metadata": {},
   "outputs": [],
   "source": [
    "mean_words = round(df.n_words.mean(),1)\n",
    "median_words = round(df.n_words.median(),1)"
   ]
  },
  {
   "cell_type": "code",
   "execution_count": 9,
   "metadata": {},
   "outputs": [
    {
     "output_type": "stream",
     "name": "stdout",
     "text": [
      "Mean words per document of 52887.8\n"
     ]
    }
   ],
   "source": [
    "print(f'Mean words per document of {mean_words}')"
   ]
  },
  {
   "cell_type": "code",
   "execution_count": 10,
   "metadata": {},
   "outputs": [
    {
     "output_type": "stream",
     "name": "stdout",
     "text": [
      "Median words per document of 38732.0\n"
     ]
    }
   ],
   "source": [
    "print(f'Median words per document of {median_words}')"
   ]
  },
  {
   "cell_type": "code",
   "execution_count": 11,
   "metadata": {},
   "outputs": [
    {
     "output_type": "stream",
     "name": "stdout",
     "text": [
      "24.17 million words total\n"
     ]
    }
   ],
   "source": [
    "total_words = df.n_words.sum()\n",
    "print(f'{total_words/int(1e6):.2f} million words total')"
   ]
  },
  {
   "cell_type": "code",
   "execution_count": 12,
   "metadata": {},
   "outputs": [],
   "source": [
    "## File size is 160.1 MB"
   ]
  },
  {
   "cell_type": "markdown",
   "metadata": {},
   "source": [
    "### Vocab\n",
    "Explore vocabulary stats"
   ]
  },
  {
   "cell_type": "code",
   "execution_count": 13,
   "metadata": {},
   "outputs": [],
   "source": [
    "stemming_dir = os.path.join(WORK_DIR, 'results', VOCAB_DIR_NAME, 'stemming')"
   ]
  },
  {
   "cell_type": "code",
   "execution_count": 14,
   "metadata": {},
   "outputs": [],
   "source": [
    "def get_words_in_vocab(path: str, count_threshold: int):\n",
    "    with open(path,'r') as f:\n",
    "        vocab_counts = json.load(f)\n",
    "        return [word for word, count in vocab_counts.items() if count >= count_threshold]"
   ]
  },
  {
   "source": [],
   "cell_type": "markdown",
   "metadata": {}
  },
  {
   "cell_type": "code",
   "execution_count": 15,
   "metadata": {},
   "outputs": [
    {
     "output_type": "stream",
     "name": "stdout",
     "text": [
      "434449 unique words in the unstemmed vocabulary\n",
      "212920 unique words in the unstemmed vocabulary which occur at least twice\n"
     ]
    }
   ],
   "source": [
    "unstemmed_vocab_path = os.path.join(stemming_dir, 'vocab_counts.json')\n",
    "unstemmed_vocab = get_words_in_vocab(unstemmed_vocab_path, count_threshold=1)\n",
    "print(f'{len(unstemmed_vocab)} unique words in the unstemmed vocabulary')\n",
    "unstemmed_vocab = get_words_in_vocab(unstemmed_vocab_path, count_threshold=2)\n",
    "print(f'{len(unstemmed_vocab)} unique words in the unstemmed vocabulary which occur at least twice')"
   ]
  },
  {
   "cell_type": "code",
   "execution_count": 19,
   "metadata": {},
   "outputs": [],
   "source": [
    "# TODO: Still need to generate the cleaned HSC vocab and stemming map\n",
    "stemmed_vocab_path = os.path.join(stemming_dir, 'cleaned_vocab_counts.json')\n",
    "stemmed_vocab = get_words_in_vocab(stemmed_vocab_path, count_threshold=1)\n",
    "print(f'{len(stemmed_vocab)} unique words in the stemmed vocabulary')\n",
    "stemmed_vocab_2 = get_words_in_vocab(stemmed_vocab_path, count_threshold=2)\n",
    "print(f'{len(stemmed_vocab)} unique words in the unstemmed vocabulary which occur at least twice')"
   ]
  },
  {
   "source": [
    "Which we should be able to check is the same as applying this method of finding the number of words in the vocab after applying stemming and cleaning."
   ],
   "cell_type": "markdown",
   "metadata": {}
  },
  {
   "cell_type": "code",
   "execution_count": 17,
   "metadata": {},
   "outputs": [],
   "source": [
    "# TODO: Requires cell above\n",
    "stemmer_path = os.path.join(stemming_dir, 'stemming_cleaned.json')\n",
    "with open(stemmer_path,'r') as f:\n",
    "    stemming_map = json.load(f)\n",
    "\n",
    "stemmed_words = []\n",
    "for word in stemmed_vocab_2:\n",
    "    stemmed_words.extend(tokenize_prune_stem(word, stemming_map))\n",
    "print(f'{len(set(stemmed_words))} words in vocab after applying stemming and pruning')"
   ]
  },
  {
   "cell_type": "code",
   "execution_count": 18,
   "metadata": {},
   "outputs": [],
   "source": [
    "# stemmer_path = os.path.join(stemming_dir, 'stemming_cleaned.json')\n",
    "# with open(stemmer_path,'r') as f:\n",
    "#     stemming_map = json.load(f)"
   ]
  },
  {
   "cell_type": "code",
   "execution_count": 19,
   "metadata": {},
   "outputs": [],
   "source": [
    "# stemmed_words = [stemming_map[word] for word in stemmed_vocab]\n",
    "# print(f'{len(set(stemmed_words))} words in vocab after applying stemming')"
   ]
  },
  {
   "cell_type": "markdown",
   "metadata": {},
   "source": [
    "## Zenodo Swahili News Corpus\n",
    "Set the `DATASET_DIR_NAME` and `VOCAB_DIR_NAME` variables to the directory names"
   ]
  },
  {
   "cell_type": "code",
   "execution_count": 20,
   "metadata": {},
   "outputs": [],
   "source": [
    "# The results from the `create_dataset.py` script\n",
    "DATASET_DIR_NAME = 'zenodo-processed-v4'\n",
    "# Results from running the `download_stemming.py` script\n",
    "VOCAB_DIR_NAME = 'z-news-dictionary-v3'"
   ]
  },
  {
   "cell_type": "markdown",
   "metadata": {},
   "source": [
    "### Documents\n",
    "Explore document stats"
   ]
  },
  {
   "cell_type": "code",
   "execution_count": 21,
   "metadata": {},
   "outputs": [],
   "source": [
    "# dataset_dir = f'{WORK_DIR}/results/zen_data'\n",
    "dataset_dir = os.path.join(WORK_DIR, 'results', DATASET_DIR_NAME)\n",
    "df = pd.read_csv(f'{dataset_dir}/dataset.csv',sep=';')"
   ]
  },
  {
   "cell_type": "code",
   "execution_count": 22,
   "metadata": {},
   "outputs": [
    {
     "output_type": "stream",
     "name": "stdout",
     "text": [
      "23267 total documents with 6 classes\n"
     ]
    }
   ],
   "source": [
    "n_classes = df.document_type.nunique()\n",
    "print(f'{len(df)} total documents with {n_classes} classes')"
   ]
  },
  {
   "cell_type": "code",
   "execution_count": 23,
   "metadata": {},
   "outputs": [
    {
     "output_type": "execute_result",
     "data": {
      "text/plain": [
       "kitaifa      10242\n",
       "michezo       6004\n",
       "burudani      2229\n",
       "uchumi        2027\n",
       "kimataifa     1906\n",
       "afya           859\n",
       "Name: document_type, dtype: int64"
      ]
     },
     "metadata": {},
     "execution_count": 23
    }
   ],
   "source": [
    "df.document_type.value_counts(dropna=False)"
   ]
  },
  {
   "cell_type": "code",
   "execution_count": 24,
   "metadata": {},
   "outputs": [],
   "source": [
    "df['n_words'] = df.document_content.apply(lambda x:len(x.split()))\n",
    "mean_words = round(df.n_words.mean(),1)\n",
    "median_words = round(df.n_words.median(),1)"
   ]
  },
  {
   "cell_type": "code",
   "execution_count": 25,
   "metadata": {},
   "outputs": [
    {
     "output_type": "stream",
     "name": "stdout",
     "text": [
      "Mean words per document of 332.2\n"
     ]
    }
   ],
   "source": [
    "print(f'Mean words per document of {mean_words}')"
   ]
  },
  {
   "cell_type": "code",
   "execution_count": 26,
   "metadata": {},
   "outputs": [
    {
     "output_type": "stream",
     "name": "stdout",
     "text": [
      "Median words per document of 275.0\n"
     ]
    }
   ],
   "source": [
    "print(f'Median words per document of {median_words}')"
   ]
  },
  {
   "cell_type": "code",
   "execution_count": 27,
   "metadata": {},
   "outputs": [
    {
     "output_type": "stream",
     "name": "stdout",
     "text": [
      "7.73 million words total\n"
     ]
    }
   ],
   "source": [
    "total_words = df.n_words.sum()\n",
    "print(f'{total_words/int(1e6):.2f} million words total')"
   ]
  },
  {
   "cell_type": "code",
   "execution_count": 28,
   "metadata": {},
   "outputs": [],
   "source": [
    "## File size is 52.3 MB"
   ]
  },
  {
   "cell_type": "markdown",
   "metadata": {},
   "source": [
    "### Vocab\n",
    "Explore vocabulary stats\n"
   ]
  },
  {
   "cell_type": "code",
   "execution_count": 29,
   "metadata": {},
   "outputs": [],
   "source": [
    "stemming_dir = os.path.join(WORK_DIR, 'results', VOCAB_DIR_NAME, 'stemming')"
   ]
  },
  {
   "cell_type": "code",
   "execution_count": 30,
   "metadata": {},
   "outputs": [
    {
     "output_type": "stream",
     "name": "stdout",
     "text": [
      "197619 unique words in the unstemmed vocabulary\n95504 unique words in the unstemmed vocabulary which occur at least twice\n"
     ]
    }
   ],
   "source": [
    "unstemmed_vocab_path = os.path.join(stemming_dir, 'vocab_counts.json')\n",
    "unstemmed_vocab = get_words_in_vocab(unstemmed_vocab_path, count_threshold=1)\n",
    "print(f'{len(unstemmed_vocab)} unique words in the unstemmed vocabulary')\n",
    "unstemmed_vocab = get_words_in_vocab(unstemmed_vocab_path, count_threshold=2)\n",
    "print(f'{len(unstemmed_vocab)} unique words in the unstemmed vocabulary which occur at least twice')"
   ]
  },
  {
   "cell_type": "code",
   "execution_count": 31,
   "metadata": {},
   "outputs": [
    {
     "output_type": "stream",
     "name": "stdout",
     "text": [
      "39746 unique words in the stemmed vocabulary\n39746 unique words in the unstemmed vocabulary which occur at least twice\n"
     ]
    }
   ],
   "source": [
    "# TODO: Still need to generate the cleaned HSC vocab and stemming map\n",
    "stemmed_vocab_path = os.path.join(stemming_dir, 'cleaned_vocab_counts.json')\n",
    "stemmed_vocab = get_words_in_vocab(stemmed_vocab_path, count_threshold=1)\n",
    "print(f'{len(stemmed_vocab)} unique words in the stemmed vocabulary')\n",
    "stemmed_vocab_2 = get_words_in_vocab(stemmed_vocab_path, count_threshold=2)\n",
    "print(f'{len(stemmed_vocab)} unique words in the unstemmed vocabulary which occur at least twice')"
   ]
  },
  {
   "source": [
    "We now consider the remaining words after removing non-alpha's, single character words, and stopwords "
   ],
   "cell_type": "markdown",
   "metadata": {}
  },
  {
   "cell_type": "code",
   "execution_count": 32,
   "metadata": {},
   "outputs": [
    {
     "output_type": "stream",
     "name": "stdout",
     "text": [
      "36574 words in vocab after applying stemming and pruning\n"
     ]
    }
   ],
   "source": [
    "stemmer_path = os.path.join(stemming_dir, 'stemming_cleaned.json')\n",
    "with open(stemmer_path,'r') as f:\n",
    "    stemming_map = json.load(f)\n",
    "\n",
    "stemmed_words = []\n",
    "for word in stemmed_vocab_2:\n",
    "    stemmed_words.extend(tokenize_prune_stem(word, stemming_map))\n",
    "print(f'{len(set(stemmed_words))} words in vocab after applying stemming and pruning')"
   ]
  },
  {
   "cell_type": "code",
   "execution_count": null,
   "metadata": {},
   "outputs": [],
   "source": []
  }
 ],
 "metadata": {
  "kernelspec": {
   "display_name": "Python 3.6.9 64-bit ('GraphEnv': venv)",
   "language": "python",
   "name": "python36964bitgraphenvvenve4b9ac01a97242c3a48a5a806f9506fd"
  },
  "language_info": {
   "codemirror_mode": {
    "name": "ipython",
    "version": 3
   },
   "file_extension": ".py",
   "mimetype": "text/x-python",
   "name": "python",
   "nbconvert_exporter": "python",
   "pygments_lexer": "ipython3",
   "version": "3.6.9-final"
  }
 },
 "nbformat": 4,
 "nbformat_minor": 4
}